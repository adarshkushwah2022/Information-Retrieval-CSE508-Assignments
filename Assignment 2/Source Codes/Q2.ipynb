{
  "nbformat": 4,
  "nbformat_minor": 0,
  "metadata": {
    "colab": {
      "name": "Q2.ipynb",
      "provenance": []
    },
    "kernelspec": {
      "name": "python3",
      "display_name": "Python 3"
    },
    "language_info": {
      "name": "python"
    }
  },
  "cells": [
    {
      "cell_type": "markdown",
      "source": [
        "**Import libraries**"
      ],
      "metadata": {
        "id": "aUq7mcEDXKeC"
      }
    },
    {
      "cell_type": "code",
      "execution_count": 1,
      "metadata": {
        "id": "QhfxDe01eHBV"
      },
      "outputs": [],
      "source": [
        "import math\n",
        "import pandas as pd\n",
        "import numpy as np\n",
        "import matplotlib.pyplot as plt"
      ]
    },
    {
      "cell_type": "code",
      "source": [
        "from google.colab import drive\n",
        "drive.mount('/content/drive')"
      ],
      "metadata": {
        "colab": {
          "base_uri": "https://localhost:8080/"
        },
        "id": "ublt5YUK035c",
        "outputId": "cb2822d4-7f4c-43d3-f67f-05f3d54432e8"
      },
      "execution_count": 2,
      "outputs": [
        {
          "output_type": "stream",
          "name": "stdout",
          "text": [
            "Mounted at /content/drive\n"
          ]
        }
      ]
    },
    {
      "cell_type": "code",
      "source": [
        "class color:\n",
        "   PURPLE = '\\033[95m'\n",
        "   CYAN = '\\033[96m'\n",
        "   DARKCYAN = '\\033[36m'\n",
        "   BLUE = '\\033[94m'\n",
        "   GREEN = '\\033[92m'\n",
        "   YELLOW = '\\033[93m'\n",
        "   RED = '\\033[91m'\n",
        "   BOLD = '\\033[1m'\n",
        "   UNDERLINE = '\\033[4m'\n",
        "   END = '\\033[0m'"
      ],
      "metadata": {
        "id": "MHj5B7rw1fh7"
      },
      "execution_count": 3,
      "outputs": []
    },
    {
      "cell_type": "markdown",
      "source": [
        "**Dataset load**"
      ],
      "metadata": {
        "id": "aY3JhtrhXQXS"
      }
    },
    {
      "cell_type": "code",
      "source": [
        "print(color.DARKCYAN+color.BOLD+\"Creating file database....\"+color.END)\n",
        "df=pd.read_csv('/content/drive/MyDrive/Assignments/IR Assignment 2/Data/IR-assignment-2-data.txt',sep=\" \",header=None)\n",
        "filedatabase={}\n",
        "for iterator in range(0,len(df.index)):\n",
        "    check1=df.at[iterator,1]\n",
        "    if (\"qid:4\"==check1):\n",
        "        filedatabase[iterator]=df.at[iterator,0]\n",
        "print(color.DARKCYAN+color.BOLD+\"File database created successfully\"+color.END)"
      ],
      "metadata": {
        "id": "BFb9kIcSf6xZ",
        "colab": {
          "base_uri": "https://localhost:8080/"
        },
        "outputId": "1fda6ba7-92d0-4f3c-d117-c6e24b8dbc3e"
      },
      "execution_count": 42,
      "outputs": [
        {
          "output_type": "stream",
          "name": "stdout",
          "text": [
            "\u001b[36m\u001b[1mCreating file database....\u001b[0m\n",
            "\u001b[36m\u001b[1mFile database created successfully\u001b[0m\n"
          ]
        }
      ]
    },
    {
      "cell_type": "markdown",
      "source": [
        "**Rearrangement of query-url pairs in order of max-DCG**"
      ],
      "metadata": {
        "id": "zRnjgIVlXV-a"
      }
    },
    {
      "cell_type": "code",
      "source": [
        "def queryurlfile(df, filedatabase):\n",
        "    newdataframe=df.drop((df.index[len(filedatabase):]))\n",
        "    #newdataframe.to_csv(\"fileobtained.csv\")\n",
        "    np.savetxt('fileobtained.txt',newdataframe.values,delimiter=\" \",fmt='%s')"
      ],
      "metadata": {
        "id": "-v9WZJAB4Pbv"
      },
      "execution_count": 9,
      "outputs": []
    },
    {
      "cell_type": "code",
      "source": [
        "queryurlfile(df,filedatabase)\n",
        "tupledocid=filedatabase.items()\n",
        "tupledocid=list(tupledocid)\n",
        "filedatabase=sorted(filedatabase.items(),key=lambda pairs:(pairs[1],pairs[0]),reverse=True)"
      ],
      "metadata": {
        "id": "IQZ5X0AL4S9e"
      },
      "execution_count": 10,
      "outputs": []
    },
    {
      "cell_type": "markdown",
      "source": [
        "**Generation of total files that can be made**"
      ],
      "metadata": {
        "id": "5YAEiZnsYbwb"
      }
    },
    {
      "cell_type": "code",
      "source": [
        "def countfinal(filedatabase):\n",
        "    find1=0\n",
        "    find2=0\n",
        "    find3=0\n",
        "    find4=0\n",
        "    for iterator in filedatabase:\n",
        "        if (iterator[1]==1):\n",
        "            find3=find3+1;\n",
        "        elif (iterator[1]==2):\n",
        "            find2=find2+1;\n",
        "        elif (iterator[1]==3):\n",
        "            find1=find1+1;\n",
        "        else:\n",
        "            find4=find4+1;\n",
        "    a=math.factorial(find1)\n",
        "    b=math.factorial(find2)\n",
        "    c=math.factorial(find3)\n",
        "    d=math.factorial(find4)\n",
        "    answer=a*b*c*d\n",
        "    return answer\n",
        "countfinal(filedatabase)"
      ],
      "metadata": {
        "id": "OnYKnh3khYOx",
        "colab": {
          "base_uri": "https://localhost:8080/"
        },
        "outputId": "20aafed5-89be-4460-b6e3-25088c93029f"
      },
      "execution_count": 11,
      "outputs": [
        {
          "output_type": "execute_result",
          "data": {
            "text/plain": [
              "19893497375938370599826047614905329896936840170566570588205180312704857992695193482412686565431050240000000000000000000000"
            ]
          },
          "metadata": {},
          "execution_count": 11
        }
      ]
    },
    {
      "cell_type": "code",
      "source": [
        "def calculate1(files,cal_len):\n",
        "    output=files[0][1]\n",
        "    for iterator in range(1,cal_len):\n",
        "        d=files[iterator][1]\n",
        "        e=math.log2(iterator+1)\n",
        "        output=output+(d/e)   \n",
        "    return output "
      ],
      "metadata": {
        "id": "mfMmdYo9hyqi"
      },
      "execution_count": 12,
      "outputs": []
    },
    {
      "cell_type": "markdown",
      "source": [
        "**Computing nDCG**\n",
        "1. At 50\n",
        "2. For the whole dataset"
      ],
      "metadata": {
        "id": "lr9uLf7-YohA"
      }
    },
    {
      "cell_type": "code",
      "source": [
        "length_a=len(filedatabase)\n",
        "length_b=len(tupledocid)\n",
        "calundcg=calculate1(tupledocid,length_b)\n",
        "calundcgval=calculate1(tupledocid,51)\n",
        "caldcgmax=calculate1(filedatabase,length_a)\n",
        "caldcgval=calculate1(filedatabase,51)\n",
        "ndcg50=calundcgval/caldcgval\n",
        "ndcgwhole=calundcg/caldcgmax\n",
        "print(color.BOLD+\"nDCG at 50:\"+color.END+color.BLUE+\"{0:32}\".format(ndcg50),color.END)\n",
        "print(color.BOLD+\"nDCG for whole Dataset: \"+color.END+color.BLUE,ndcgwhole,color.END)"
      ],
      "metadata": {
        "colab": {
          "base_uri": "https://localhost:8080/"
        },
        "id": "qigXaAA2h7dl",
        "outputId": "302104b9-c996-432e-8907-99943b0055bf"
      },
      "execution_count": 28,
      "outputs": [
        {
          "output_type": "stream",
          "name": "stdout",
          "text": [
            "\u001b[1mnDCG at 50:\u001b[0m\u001b[94m              0.3521042740324887 \u001b[0m\n",
            "\u001b[1mnDCG for whole Dataset: \u001b[0m\u001b[94m 0.5979226516897831 \u001b[0m\n"
          ]
        }
      ]
    },
    {
      "cell_type": "markdown",
      "source": [
        "**Plotting precision recall curve**"
      ],
      "metadata": {
        "id": "OkwdAEKYtXtC"
      }
    },
    {
      "cell_type": "code",
      "source": [
        "def calculate2(filedatabase):\n",
        "    for iterator in range(0,len(df.index)):\n",
        "        check1=df.at[iterator,1]\n",
        "        if(\"qid:4\"==check1):\n",
        "            store=float(df.at[iterator,76][3:])\n",
        "            f=df.at[iterator,0]\n",
        "            variable=(store,f)\n",
        "            filedatabase[iterator]=variable\n"
      ],
      "metadata": {
        "id": "uyMsEngGh7fl"
      },
      "execution_count": 29,
      "outputs": []
    },
    {
      "cell_type": "code",
      "source": [
        "storedval={}"
      ],
      "metadata": {
        "id": "8QL3k-tDuCsr"
      },
      "execution_count": 30,
      "outputs": []
    },
    {
      "cell_type": "code",
      "source": [
        "def gpr(pair1):\n",
        "    xaxis=[]\n",
        "    cal3=sorted(pair1.items(),key=lambda pairs:(pairs[1],pairs[0]),reverse=True)\n",
        "    document1=103\n",
        "    yaxis=[]\n",
        "    document2=74\n",
        "    document3=0 \n",
        "    tfsort=len(cal3)\n",
        "    for iterator in range(0,tfsort):\n",
        "        if (cal3[iterator][1][1]!=0):\n",
        "            document3=document3+1\n",
        "        p=document3/(iterator+1)\n",
        "        yaxis.append(p)\n",
        "        r=document3/document2\n",
        "        xaxis.append(r)\n",
        "    plt.plot(xaxis, yaxis,color='blue',linewidth=4)\n",
        "    plt.title('Precision Recall Curve')\n",
        "    plt.ylabel('Precision')\n",
        "    plt.xlabel('Recall')\n",
        "    plt.show()"
      ],
      "metadata": {
        "id": "ytsRHj-8ubK5"
      },
      "execution_count": 37,
      "outputs": []
    },
    {
      "cell_type": "code",
      "source": [
        "calculate2(storedval)\n",
        "gpr(storedval)"
      ],
      "metadata": {
        "colab": {
          "base_uri": "https://localhost:8080/",
          "height": 295
        },
        "id": "0mLIqMmhh7iG",
        "outputId": "017c3391-4b83-466b-c6e8-22889b2b82fe"
      },
      "execution_count": 38,
      "outputs": [
        {
          "output_type": "display_data",
          "data": {
            "text/plain": [
              "<Figure size 432x288 with 1 Axes>"
            ],
            "image/png": "[encoded data removed]"
          },
          "metadata": {
            "needs_background": "light"
          }
        }
      ]
    }
  ]
}