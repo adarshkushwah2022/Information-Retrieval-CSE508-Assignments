{
  "nbformat": 4,
  "nbformat_minor": 0,
  "metadata": {
    "colab": {
      "name": "IR ASSIGNMENT 2 Q3 NAIVE BAYES.ipynb",
      "provenance": [],
      "collapsed_sections": []
    },
    "kernelspec": {
      "name": "python3",
      "display_name": "Python 3"
    },
    "language_info": {
      "name": "python"
    }
  },
  "cells": [
    {
      "cell_type": "markdown",
      "source": [
        "**Importing Libraries and Dataset**"
      ],
      "metadata": {
        "id": "MICnhuS_9Fd-"
      }
    },
    {
      "cell_type": "code",
      "execution_count": 238,
      "metadata": {
        "colab": {
          "base_uri": "https://localhost:8080/"
        },
        "id": "aAz3bntewPlf",
        "outputId": "3cac0dbc-a56e-49bd-b8f5-d76efb81a8ed"
      },
      "outputs": [
        {
          "output_type": "stream",
          "name": "stdout",
          "text": [
            "Drive already mounted at /content/drive; to attempt to forcibly remount, call drive.mount(\"/content/drive\", force_remount=True).\n"
          ]
        }
      ],
      "source": [
        "#Importing google drive\n",
        "from google.colab import drive\n",
        "drive.mount('/content/drive')"
      ]
    },
    {
      "cell_type": "code",
      "source": [
        "#Importing pre-requisite libaries\n",
        "import os\n",
        "import re\n",
        "import nltk\n",
        "import glob\n",
        "import tqdm\n",
        "import pickle\n",
        "import random\n",
        "import string\n",
        "import inflect\n",
        "import operator\n",
        "import matplotlib\n",
        "import numpy as np\n",
        "import pandas as pd\n",
        "import seaborn as sns\n",
        "from tqdm import tqdm\n",
        "nltk.download('punkt')\n",
        "nltk.download('wordnet')\n",
        "nltk.download('stopwords')\n",
        "from nltk import tokenize\n",
        "from nltk import word_tokenize\n",
        "import matplotlib.pyplot as plt\n",
        "from collections import Counter\n",
        "from nltk.corpus import stopwords\n",
        "from prettytable import PrettyTable\n",
        "from nltk.stem import PorterStemmer\n",
        "from nltk.stem import WordNetLemmatizer"
      ],
      "metadata": {
        "colab": {
          "base_uri": "https://localhost:8080/"
        },
        "id": "4mrqL7stwjgg",
        "outputId": "d86e0c3f-7368-4d6a-cb69-d0679ada03a1"
      },
      "execution_count": 239,
      "outputs": [
        {
          "output_type": "stream",
          "name": "stdout",
          "text": [
            "[nltk_data] Downloading package punkt to /root/nltk_data...\n",
            "[nltk_data]   Package punkt is already up-to-date!\n",
            "[nltk_data] Downloading package wordnet to /root/nltk_data...\n",
            "[nltk_data]   Package wordnet is already up-to-date!\n",
            "[nltk_data] Downloading package stopwords to /root/nltk_data...\n",
            "[nltk_data]   Package stopwords is already up-to-date!\n"
          ]
        }
      ]
    },
    {
      "cell_type": "code",
      "source": [
        "#Fetching stopwords\n",
        "stop_words = set(stopwords.words('english'))"
      ],
      "metadata": {
        "id": "dFlFLQwCwwZG"
      },
      "execution_count": 240,
      "outputs": []
    },
    {
      "cell_type": "code",
      "source": [
        "class color:\n",
        "   PURPLE = '\\033[95m'\n",
        "   CYAN = '\\033[96m'\n",
        "   DARKCYAN = '\\033[36m'\n",
        "   BLUE = '\\033[94m'\n",
        "   GREEN = '\\033[92m'\n",
        "   YELLOW = '\\033[93m'\n",
        "   RED = '\\033[91m'\n",
        "   BOLD = '\\033[1m'\n",
        "   UNDERLINE = '\\033[4m'\n",
        "   END = '\\033[0m'"
      ],
      "metadata": {
        "id": "hZokP74szU6n"
      },
      "execution_count": 241,
      "outputs": []
    },
    {
      "cell_type": "code",
      "source": [
        "import itertools\n",
        "colors = itertools.cycle([\"r\", \"b\", \"g\"])"
      ],
      "metadata": {
        "id": "xEdk4BxxzpJ7"
      },
      "execution_count": 242,
      "outputs": []
    },
    {
      "cell_type": "markdown",
      "source": [
        "**Pre-processing of data**"
      ],
      "metadata": {
        "id": "tagQDhfx9Vg4"
      }
    },
    {
      "cell_type": "code",
      "execution_count": 243,
      "metadata": {
        "id": "JA1LEVycZZhW"
      },
      "outputs": [],
      "source": [
        "'''\n",
        "Pre-processing steps:\n",
        "1.Strip the data for each files \n",
        "2.Convert into lower case\n",
        "3.Tokenize the data\n",
        "4.Converting the number into word like 12 -> twelve\n",
        "5.Remove punctuation\n",
        "6.Removing single alphabet\n",
        "7.Remove stop words\n",
        "8.Apply lemmetization\n",
        "'''\n",
        "def preprocessingData(tokens):\n",
        "    token = [word.lower() for word in tokens]\n",
        "    currentWordsList = []\n",
        "    for singleWord in token:\n",
        "        if singleWord.isdigit():\n",
        "            try:\n",
        "                currentWords = p.number_to_words(singleWord)\n",
        "                currentWordsList.append(currentWords)\n",
        "            except:\n",
        "                currentWordsList.append(singleWord)\n",
        "        else:\n",
        "            currentWordsList.append(singleWord)\n",
        "    punctuationsList = str.maketrans('  ', '  ', string.punctuation)\n",
        "    removedpunctuation = [w.translate(punctuationsList) for w in currentWordsList]\n",
        "    removedStopwords = [word for word in removedpunctuation if word.isalpha()]\n",
        "    finalTokensList = [w for w in removedStopwords if not w in stop_words]\n",
        "    lemmatizer = nltk.stem.WordNetLemmatizer()\n",
        "    psObject = PorterStemmer()\n",
        "    finalTokensList = [psObject.stem(word) for word in finalTokensList]\n",
        "    return finalTokensList"
      ]
    },
    {
      "cell_type": "code",
      "execution_count": 244,
      "metadata": {
        "id": "quygi-m4jfZ4"
      },
      "outputs": [],
      "source": [
        "#Creating paths from the datapath provided\n",
        "def pathsCreation(dataPath):\n",
        "    iterator = 0\n",
        "    filesList = ['comp.graphics',\"sci.med\", \"talk.politics.misc\",\"rec.sport.hockey\",\"sci.space\"]\n",
        "    folderPath = \"/content/drive/MyDrive/Assignments/IR Assignment 2/Data/20_newsgroups\"\n",
        "    pathList = []\n",
        "    LA = []\n",
        "    filesPath = glob.glob(dataPath)\n",
        "    for f in tqdm(filesPath,leave=True,position=0,desc =\"File Processed Till now\"):\n",
        "        nameOfFile,tailOfFile = os.path.split(f)\n",
        "        for iterator in filesList:\n",
        "          if(tailOfFile == iterator):\n",
        "            for file in glob.glob(f+\"/*\"):\n",
        "                nameOfFile1,tailOfFile1 = os.path.split(file)\n",
        "                pathList.append(str(folderPath)+\"/\"+tailOfFile+\"/\"+tailOfFile1)\n",
        "                LA.append(tailOfFile)\n",
        "    return pathList,LA"
      ]
    },
    {
      "cell_type": "code",
      "execution_count": 245,
      "metadata": {
        "id": "CrzlViQUj8lU"
      },
      "outputs": [],
      "source": [
        "#Defining directory path\n",
        "dirpath = \"/content/drive/MyDrive/Assignments/IR Assignment 2/Data/20_newsgroups/*\""
      ]
    },
    {
      "cell_type": "code",
      "execution_count": 246,
      "metadata": {
        "colab": {
          "base_uri": "https://localhost:8080/"
        },
        "id": "7C5GptpmimyE",
        "outputId": "f8e46d91-21a1-4d56-9eea-3ac771c38587"
      },
      "outputs": [
        {
          "output_type": "stream",
          "name": "stderr",
          "text": [
            "File Processed Till now: 100%|██████████| 5/5 [00:00<00:00, 36.30it/s]\n"
          ]
        }
      ],
      "source": [
        "# Creating path and name of files list\n",
        "pathGot,namesGot = pathsCreation(dirpath)"
      ]
    },
    {
      "cell_type": "markdown",
      "source": [
        "**Creating Dataframe and Defining other Requisite Utility functions**"
      ],
      "metadata": {
        "id": "4q6dHevFDcM0"
      }
    },
    {
      "cell_type": "code",
      "execution_count": 247,
      "metadata": {
        "colab": {
          "base_uri": "https://localhost:8080/"
        },
        "id": "QwiPAEl6kYlu",
        "outputId": "7c9703b4-1aeb-4fb1-a400-a7716ba58ccf"
      },
      "outputs": [
        {
          "output_type": "stream",
          "name": "stdout",
          "text": [
            "Creating dataframe...\n"
          ]
        },
        {
          "output_type": "stream",
          "name": "stderr",
          "text": [
            "100%|██████████| 5000/5000 [00:45<00:00, 110.46it/s]\n"
          ]
        },
        {
          "output_type": "stream",
          "name": "stdout",
          "text": [
            "Dataframe Created Successfully\n"
          ]
        }
      ],
      "source": [
        "#Creating Dataframe\n",
        "document_iterator=0\n",
        "documentsList = []\n",
        "print(\"Creating dataframe...\")\n",
        "for iterator in tqdm(pathGot):\n",
        "  dataText = open(iterator,mode='r',errors='ignore', encoding='UTF8').read().strip()\n",
        "  tokensCreated = tokenize.RegexpTokenizer(r'\\w+').tokenize(dataText)\n",
        "  dataTokens = preprocessingData(tokensCreated)\n",
        "  documentsList.append(dataTokens)\n",
        "  document_iterator += 1\n",
        "df = pd.DataFrame([documentsList, namesGot]).T\n",
        "print(\"Dataframe Created Successfully\")"
      ]
    },
    {
      "cell_type": "code",
      "execution_count": 248,
      "metadata": {
        "colab": {
          "base_uri": "https://localhost:8080/",
          "height": 206
        },
        "id": "cw093xdCXZ0-",
        "outputId": "5f5b6533-2144-41e7-ead4-7a4ab6b3e895"
      },
      "outputs": [
        {
          "output_type": "execute_result",
          "data": {
            "text/plain": [
              "                                                   0              1\n",
              "0  [newsgroup, comp, graphic, path, cantaloup, sr...  comp.graphics\n",
              "1  [xref, cantaloup, srv, cs, cmu, edu, comp, gra...  comp.graphics\n",
              "2  [newsgroup, comp, graphic, path, cantaloup, sr...  comp.graphics\n",
              "3  [path, cantaloup, srv, cs, cmu, edu, crabappl,...  comp.graphics\n",
              "4  [newsgroup, comp, graphic, path, cantaloup, sr...  comp.graphics"
            ],
            "text/html": [
              "\n",
              "  <div id=\"df-dbe3f458-ea06-4858-94c8-8b17055d7855\">\n",
              "    <div class=\"colab-df-container\">\n",
              "      <div>\n",
              "<style scoped>\n",
              "    .dataframe tbody tr th:only-of-type {\n",
              "        vertical-align: middle;\n",
              "    }\n",
              "\n",
              "    .dataframe tbody tr th {\n",
              "        vertical-align: top;\n",
              "    }\n",
              "\n",
              "    .dataframe thead th {\n",
              "        text-align: right;\n",
              "    }\n",
              "</style>\n",
              "<table border=\"1\" class=\"dataframe\">\n",
              "  <thead>\n",
              "    <tr style=\"text-align: right;\">\n",
              "      <th></th>\n",
              "      <th>0</th>\n",
              "      <th>1</th>\n",
              "    </tr>\n",
              "  </thead>\n",
              "  <tbody>\n",
              "    <tr>\n",
              "      <th>0</th>\n",
              "      <td>[newsgroup, comp, graphic, path, cantaloup, sr...</td>\n",
              "      <td>comp.graphics</td>\n",
              "    </tr>\n",
              "    <tr>\n",
              "      <th>1</th>\n",
              "      <td>[xref, cantaloup, srv, cs, cmu, edu, comp, gra...</td>\n",
              "      <td>comp.graphics</td>\n",
              "    </tr>\n",
              "    <tr>\n",
              "      <th>2</th>\n",
              "      <td>[newsgroup, comp, graphic, path, cantaloup, sr...</td>\n",
              "      <td>comp.graphics</td>\n",
              "    </tr>\n",
              "    <tr>\n",
              "      <th>3</th>\n",
              "      <td>[path, cantaloup, srv, cs, cmu, edu, crabappl,...</td>\n",
              "      <td>comp.graphics</td>\n",
              "    </tr>\n",
              "    <tr>\n",
              "      <th>4</th>\n",
              "      <td>[newsgroup, comp, graphic, path, cantaloup, sr...</td>\n",
              "      <td>comp.graphics</td>\n",
              "    </tr>\n",
              "  </tbody>\n",
              "</table>\n",
              "</div>\n",
              "      <button class=\"colab-df-convert\" onclick=\"convertToInteractive('df-dbe3f458-ea06-4858-94c8-8b17055d7855')\"\n",
              "              title=\"Convert this dataframe to an interactive table.\"\n",
              "              style=\"display:none;\">\n",
              "        \n",
              "  <svg xmlns=\"http://www.w3.org/2000/svg\" height=\"24px\"viewBox=\"0 0 24 24\"\n",
              "       width=\"24px\">\n",
              "    <path d=\"M0 0h24v24H0V0z\" fill=\"none\"/>\n",
              "    <path d=\"M18.56 5.44l.94 2.06.94-2.06 2.06-.94-2.06-.94-.94-2.06-.94 2.06-2.06.94zm-11 1L8.5 8.5l.94-2.06 2.06-.94-2.06-.94L8.5 2.5l-.94 2.06-2.06.94zm10 10l.94 2.06.94-2.06 2.06-.94-2.06-.94-.94-2.06-.94 2.06-2.06.94z\"/><path d=\"M17.41 7.96l-1.37-1.37c-.4-.4-.92-.59-1.43-.59-.52 0-1.04.2-1.43.59L10.3 9.45l-7.72 7.72c-.78.78-.78 2.05 0 2.83L4 21.41c.39.39.9.59 1.41.59.51 0 1.02-.2 1.41-.59l7.78-7.78 2.81-2.81c.8-.78.8-2.07 0-2.86zM5.41 20L4 18.59l7.72-7.72 1.47 1.35L5.41 20z\"/>\n",
              "  </svg>\n",
              "      </button>\n",
              "      \n",
              "  <style>\n",
              "    .colab-df-container {\n",
              "      display:flex;\n",
              "      flex-wrap:wrap;\n",
              "      gap: 12px;\n",
              "    }\n",
              "\n",
              "    .colab-df-convert {\n",
              "      background-color: #E8F0FE;\n",
              "      border: none;\n",
              "      border-radius: 50%;\n",
              "      cursor: pointer;\n",
              "      display: none;\n",
              "      fill: #1967D2;\n",
              "      height: 32px;\n",
              "      padding: 0 0 0 0;\n",
              "      width: 32px;\n",
              "    }\n",
              "\n",
              "    .colab-df-convert:hover {\n",
              "      background-color: #E2EBFA;\n",
              "      box-shadow: 0px 1px 2px rgba(60, 64, 67, 0.3), 0px 1px 3px 1px rgba(60, 64, 67, 0.15);\n",
              "      fill: #174EA6;\n",
              "    }\n",
              "\n",
              "    [theme=dark] .colab-df-convert {\n",
              "      background-color: #3B4455;\n",
              "      fill: #D2E3FC;\n",
              "    }\n",
              "\n",
              "    [theme=dark] .colab-df-convert:hover {\n",
              "      background-color: #434B5C;\n",
              "      box-shadow: 0px 1px 3px 1px rgba(0, 0, 0, 0.15);\n",
              "      filter: drop-shadow(0px 1px 2px rgba(0, 0, 0, 0.3));\n",
              "      fill: #FFFFFF;\n",
              "    }\n",
              "  </style>\n",
              "\n",
              "      <script>\n",
              "        const buttonEl =\n",
              "          document.querySelector('#df-dbe3f458-ea06-4858-94c8-8b17055d7855 button.colab-df-convert');\n",
              "        buttonEl.style.display =\n",
              "          google.colab.kernel.accessAllowed ? 'block' : 'none';\n",
              "\n",
              "        async function convertToInteractive(key) {\n",
              "          const element = document.querySelector('#df-dbe3f458-ea06-4858-94c8-8b17055d7855');\n",
              "          const dataTable =\n",
              "            await google.colab.kernel.invokeFunction('convertToInteractive',\n",
              "                                                     [key], {});\n",
              "          if (!dataTable) return;\n",
              "\n",
              "          const docLinkHtml = 'Like what you see? Visit the ' +\n",
              "            '<a target=\"_blank\" href=https://colab.research.google.com/notebooks/data_table.ipynb>data table notebook</a>'\n",
              "            + ' to learn more about interactive tables.';\n",
              "          element.innerHTML = '';\n",
              "          dataTable['output_type'] = 'display_data';\n",
              "          await google.colab.output.renderOutput(dataTable, element);\n",
              "          const docLink = document.createElement('div');\n",
              "          docLink.innerHTML = docLinkHtml;\n",
              "          element.appendChild(docLink);\n",
              "        }\n",
              "      </script>\n",
              "    </div>\n",
              "  </div>\n",
              "  "
            ]
          },
          "metadata": {},
          "execution_count": 248
        }
      ],
      "source": [
        "#Displaying top 5 rows of dataframe created above\n",
        "df.head()"
      ]
    },
    {
      "cell_type": "code",
      "source": [
        "#Creating file classes list\n",
        "fileClassesList = ['comp.graphics', 'rec.sport.hockey', 'sci.med', 'sci.space', 'talk.politics.misc']"
      ],
      "metadata": {
        "id": "31u0wrE36V19"
      },
      "execution_count": 249,
      "outputs": []
    },
    {
      "cell_type": "code",
      "source": [
        "#Split of dataset on random manner depends on ratios used\n",
        "def randomSplitFunction(dataFiles,ratioUsed):\n",
        "    randomBooleanUsed = np.random.rand(len(dataFiles)) < ratioUsed\n",
        "    trainFiles = dataFiles[randomBooleanUsed]\n",
        "    testFiles = dataFiles[~randomBooleanUsed]\n",
        "    return trainFiles,testFiles"
      ],
      "metadata": {
        "id": "gzQB2-Su6f8Y"
      },
      "execution_count": 250,
      "outputs": []
    },
    {
      "cell_type": "code",
      "source": [
        "#Creating function to reseting the index\n",
        "def resetIndexFunction(trainDataFiles,testDataFiles):\n",
        "    trainFinal = trainDataFiles.reset_index(drop=True)\n",
        "    testFinal = testDataFiles.reset_index(drop=True)\n",
        "    splittedTrainClass = Counter(trainFinal[1])\n",
        "    print(color.BOLD+\"Count in Classes: \"+str(splittedTrainClass)+color.END)\n",
        "    print()\n",
        "    return trainFinal,testFinal,splittedTrainClass"
      ],
      "metadata": {
        "id": "7sX7g0ic6nxj"
      },
      "execution_count": 251,
      "outputs": []
    },
    {
      "cell_type": "code",
      "source": [
        "#Creating function to count the number of words in specific class\n",
        "def countWordsInClass(trainDataFiles):\n",
        "    wordDictionary= {}\n",
        "    for iterator in range(0,len(trainDataFiles)):\n",
        "        try:\n",
        "            wordDictionary[trainDataFiles[1][iterator]] = wordDictionary[trainDataFiles[1][iterator]] + trainDataFiles[0][iterator]\n",
        "        except:\n",
        "            wordDictionary[trainDataFiles[1][iterator]] = trainDataFiles[0][iterator]\n",
        "    return wordDictionary"
      ],
      "metadata": {
        "id": "o7_B_cjn6pzs"
      },
      "execution_count": 252,
      "outputs": []
    },
    {
      "cell_type": "code",
      "source": [
        "#Creating function to count the number of UNIQUE words in a specific class\n",
        "def countUniqueWords(wordDictionary):\n",
        "    uniqueWords = set()\n",
        "    for iterator in wordDictionary:\n",
        "        uniqueWords = uniqueWords | set(wordDictionary[iterator])\n",
        "    uniqueWordsList = len(uniqueWords)\n",
        "    return uniqueWords,uniqueWordsList"
      ],
      "metadata": {
        "id": "0zy6sjt-6siP"
      },
      "execution_count": 253,
      "outputs": []
    },
    {
      "cell_type": "code",
      "source": [
        "#class frequency for each word\n",
        "def findCF(wordDictionary):\n",
        "    CFValues = {}\n",
        "    for iterator in wordDictionary:\n",
        "        for w in set(wordDictionary[iterator]):\n",
        "            CFValues[w] = []\n",
        "    for iterator in wordDictionary:\n",
        "        for w in set(wordDictionary[iterator]):\n",
        "            if iterator == 'comp.graphics':\n",
        "                CFValues[w].append(iterator)\n",
        "            elif iterator == 'sci.med':\n",
        "                CFValues[w].append(iterator)\n",
        "            elif iterator == 'rec.sport.hockey':\n",
        "                CFValues[w].append(iterator)\n",
        "            elif iterator == 'sci.space':\n",
        "                CFValues[w].append(iterator)        \n",
        "            else:\n",
        "                CFValues[w].append(iterator)\n",
        "    for x,y in CFValues.items():\n",
        "        CFValues[x] = len(y)\n",
        "    return CFValues"
      ],
      "metadata": {
        "id": "hNJg3rGY6uJZ"
      },
      "execution_count": 254,
      "outputs": []
    },
    {
      "cell_type": "code",
      "source": [
        "#Creating function to evaluate class frequency\n",
        "def classDFrequencyEvaluation(w,CFValues):\n",
        "    rand = 0\n",
        "    try:\n",
        "        rand = CFValues[w]\n",
        "    except:\n",
        "        pass\n",
        "    return rand"
      ],
      "metadata": {
        "id": "-1fH26g46xEl"
      },
      "execution_count": 255,
      "outputs": []
    },
    {
      "cell_type": "code",
      "source": [
        "#Creating function to TF-ICF value\n",
        "def tfIcfEvaluation(wordDictionary,CF):\n",
        "    tfIcfValues = {}\n",
        "    N=5\n",
        "    for iterator in wordDictionary:\n",
        "        tempDictonary={}\n",
        "        count=Counter(wordDictionary[iterator])\n",
        "        wordCount=len(wordDictionary[iterator])\n",
        "        for word in set(wordDictionary[iterator]):\n",
        "            termFrequency = count[word]/wordCount\n",
        "            classFrequency = classDFrequencyEvaluation(word,CF)\n",
        "            inverseClassFrequency = np.log((N)/(classFrequency))\n",
        "            tempDictonary[word] = termFrequency*inverseClassFrequency\n",
        "        tfIcfValues[iterator] = tempDictonary\n",
        "    return tfIcfValues"
      ],
      "metadata": {
        "id": "woY-lDsO6zIB"
      },
      "execution_count": 256,
      "outputs": []
    },
    {
      "cell_type": "code",
      "source": [
        "#Creating function that will find top K-Features by using TF-ICF value\n",
        "def kFeatureUsingTfIcf(TF_ICF,featureValue):\n",
        "    finalFeaturesList=[]\n",
        "    kFeaturesList={}\n",
        "    for iterator in TF_ICF.keys():\n",
        "        tempFeatures=[]\n",
        "        sortedK = sorted(TF_ICF[iterator], key=TF_ICF[iterator].get, reverse=True)\n",
        "        for iteratorTwo in sortedK[0:int(featureValue)]:\n",
        "            finalFeaturesList.append(iteratorTwo)\n",
        "            tempFeatures.append(iteratorTwo)\n",
        "        kFeaturesList[iterator] = tempFeatures\n",
        "    return kFeaturesList,finalFeaturesList"
      ],
      "metadata": {
        "id": "JDBqmiUD62Jg"
      },
      "execution_count": 257,
      "outputs": []
    },
    {
      "cell_type": "code",
      "source": [
        "#Creating function to evaluate class frequences\n",
        "def countFrequencies(classList,TF_icfFeatures,kFeatures):\n",
        "    classOne = {}\n",
        "    classTwo = {}\n",
        "    for i in classList:\n",
        "        countTopKFeatures = Counter(kFeatures[i])\n",
        "        for j in TF_icfFeatures:\n",
        "            classOne[i, j] = countTopKFeatures[j]\n",
        "            try:\n",
        "                classTwo[i] = classTwo[i] + countTopKFeatures[j]\n",
        "            except:\n",
        "                classTwo[i] = countTopKFeatures[j]\n",
        "    return classOne,classTwo"
      ],
      "metadata": {
        "id": "B0JD5PRO63-a"
      },
      "execution_count": 258,
      "outputs": []
    },
    {
      "cell_type": "code",
      "source": [
        "def frequency(w, l,classOne,classTwo):\n",
        "    try:\n",
        "        return classOne[l, w],classTwo[l]\n",
        "    except:\n",
        "        return 0, classTwo[l]"
      ],
      "metadata": {
        "id": "DIDifxIB6597"
      },
      "execution_count": 259,
      "outputs": []
    },
    {
      "cell_type": "code",
      "source": [
        "#Creating function for Naive-Bayes algorithm driver code\n",
        "def nbAlgoFunction(disctintWordsC,classTrainSplit,trainData,testData,allClasses,classOne,classTwo):\n",
        "    truthValues = []\n",
        "    predictedValues = []\n",
        "    for iterator in range(testData.shape[0]):\n",
        "        truthValues.append(testData[1][iterator])\n",
        "        classWordProbability = []\n",
        "        for l in allClasses:\n",
        "            wordProbability = 0\n",
        "            for w in testData[0][iterator]:\n",
        "                freq, count = frequency(w, l,classOne,classTwo)\n",
        "                pp = (freq + 1) / (count + disctintWordsC)\n",
        "                wordProbability += np.log(pp)\n",
        "            wordProbability += np.log(classTrainSplit[l] / trainData.shape[0])            \n",
        "            classWordProbability.append(wordProbability)           \n",
        "        predictedValues.append(allClasses[np.argmax(classWordProbability)])        \n",
        "    return truthValues,predictedValues"
      ],
      "metadata": {
        "id": "pK4C4EK97BeS"
      },
      "execution_count": 260,
      "outputs": []
    },
    {
      "cell_type": "code",
      "source": [
        "#Creating function for evaluating accuracy\n",
        "def aacuracyEvaluation(predValues, truthValues):\n",
        "    valueOne = len([1 for i in range(len(predValues)) if predValues[i]==truthValues[i]])\n",
        "    return valueOne/len(predValues)"
      ],
      "metadata": {
        "id": "U8dZGFvl7Ivv"
      },
      "execution_count": 261,
      "outputs": []
    },
    {
      "cell_type": "code",
      "source": [
        "#Creating function for evaluating confusion matrix\n",
        "def evaluateConfusionMatrix(predValues, truthValues,classes):\n",
        "    cMatrix = np.zeros((len(classes), len(classes))).astype(int)\n",
        "    for i in range(len(predValues)):\n",
        "        cMatrix[classes.index(predValues[i])][classes.index(truthValues[i])] += 1\n",
        "    return cMatrix"
      ],
      "metadata": {
        "id": "n7TIZDEp7Ll8"
      },
      "execution_count": 262,
      "outputs": []
    },
    {
      "cell_type": "code",
      "source": [
        "#Creating function for evaluating heatmap\n",
        "def heatmap(conf_mat):\n",
        "    sns.heatmap(conf_mat/np.sum(conf_mat), annot=True, fmt='.2%', cmap='Blues')"
      ],
      "metadata": {
        "id": "01eoSnsw7Nmz"
      },
      "execution_count": 263,
      "outputs": []
    },
    {
      "cell_type": "markdown",
      "source": [
        "**Defining Driver Code**"
      ],
      "metadata": {
        "id": "oE8Q-9xFDxN4"
      }
    },
    {
      "cell_type": "code",
      "source": [
        "#Creating Driver function\n",
        "def helperFunction(dataFiles,ratio):\n",
        "    trainDataFiles,testData = randomSplitFunction(dataFiles,ratio)\n",
        "    trainDataFiles,testData,train_class_split = resetIndexFunction(trainDataFiles,testData)\n",
        "    wordDictionary = countWordsInClass(testData)\n",
        "    distinct_words,distinct_words_c = countUniqueWords(wordDictionary)\n",
        "    CFValues = findCF(wordDictionary)\n",
        "    valueTFICF = tfIcfEvaluation(wordDictionary,CFValues)\n",
        "    valuesFeature = [10,20,40,50,60,70]\n",
        "    for fValue in valuesFeature:\n",
        "        k_feature,featTFICF = kFeatureUsingTfIcf(valueTFICF,fValue)\n",
        "        class_f,class_c = countFrequencies(fileClassesList,featTFICF,k_feature)\n",
        "        truthValues,predictedValues = nbAlgoFunction(distinct_words_c,train_class_split,trainDataFiles,testData,fileClassesList,class_f,class_c)\n",
        "        accuracyEvaluated = aacuracyEvaluation(predictedValues,truthValues)\n",
        "        print(color.BOLD+\"Training data size: \"+str(ratio*100)+\" %\"+color.END)\n",
        "        print(color.BOLD+\"Feature Selected: \"+str(fValue)+color.END)\n",
        "        print(color.BLUE+color.BOLD+\"Accuracy Achieved: \"+str(\"{:.2f}\".format(accuracyEvaluated*100))+\" %\"+color.END)\n",
        "        confusionMatrixEvaluated = evaluateConfusionMatrix(predictedValues,truthValues,fileClassesList)\n",
        "        print(color.BLUE+color.BOLD+\"Confusion Matrix: \"+color.END)\n",
        "        print(confusionMatrixEvaluated)\n",
        "        print()\n",
        "        featureList.append(fValue)\n",
        "        listPref.append(accuracyEvaluated)\n",
        "        listTrainSize.append(ratio)"
      ],
      "metadata": {
        "id": "WI73VmpW7PQu"
      },
      "execution_count": 264,
      "outputs": []
    },
    {
      "cell_type": "code",
      "source": [
        "#Defining features, train dataset and ratio/proportion list\n",
        "featureList = []\n",
        "listPref = []\n",
        "listTrainSize = []\n",
        "proportionUsed = [0.5,0.7,0.8]\n",
        "s=1\n",
        "for currentRatio in proportionUsed:\n",
        "    print(color.BOLD+\"Case \"+str(s)+color.END)\n",
        "    helperFunction(df,currentRatio)\n",
        "    print(\"----------------------------------\")\n",
        "    print(\"----------------------------------\")\n",
        "    print()\n",
        "    s+=1"
      ],
      "metadata": {
        "colab": {
          "base_uri": "https://localhost:8080/"
        },
        "id": "EyZds8137Rjl",
        "outputId": "1fde6540-313a-4c1d-cb95-4f0a51690210"
      },
      "execution_count": 265,
      "outputs": [
        {
          "output_type": "stream",
          "name": "stdout",
          "text": [
            "\u001b[1mCase 1\u001b[0m\n",
            "\u001b[1mCount in Classes: Counter({'rec.sport.hockey': 503, 'comp.graphics': 499, 'sci.space': 499, 'sci.med': 481, 'talk.politics.misc': 469})\u001b[0m\n",
            "\n",
            "\u001b[1mTraining data size: 50.0 %\u001b[0m\n",
            "\u001b[1mFeature Selected: 10\u001b[0m\n",
            "\u001b[94m\u001b[1mAccuracy Achieved: 80.74 %\u001b[0m\n",
            "\u001b[94m\u001b[1mConfusion Matrix: \u001b[0m\n",
            "[[481   0   7   9   4]\n",
            " [  0 497   0   0 117]\n",
            " [  0   0 261   4  44]\n",
            " [  0   0 236 487  34]\n",
            " [ 20   0  15   1 332]]\n",
            "\n",
            "\u001b[1mTraining data size: 50.0 %\u001b[0m\n",
            "\u001b[1mFeature Selected: 20\u001b[0m\n",
            "\u001b[94m\u001b[1mAccuracy Achieved: 87.17 %\u001b[0m\n",
            "\u001b[94m\u001b[1mConfusion Matrix: \u001b[0m\n",
            "[[493   0   7   7   1]\n",
            " [  1 497   3   6  86]\n",
            " [  0   0 333   4  12]\n",
            " [  0   0 171 483  16]\n",
            " [  7   0   5   1 416]]\n",
            "\n",
            "\u001b[1mTraining data size: 50.0 %\u001b[0m\n",
            "\u001b[1mFeature Selected: 40\u001b[0m\n",
            "\u001b[94m\u001b[1mAccuracy Achieved: 90.23 %\u001b[0m\n",
            "\u001b[94m\u001b[1mConfusion Matrix: \u001b[0m\n",
            "[[497   0   9   9  23]\n",
            " [  4 497   3   6  36]\n",
            " [  0   0 377   6  15]\n",
            " [  0   0 124 479   7]\n",
            " [  0   0   6   1 450]]\n",
            "\n",
            "\u001b[1mTraining data size: 50.0 %\u001b[0m\n",
            "\u001b[1mFeature Selected: 50\u001b[0m\n",
            "\u001b[94m\u001b[1mAccuracy Achieved: 91.96 %\u001b[0m\n",
            "\u001b[94m\u001b[1mConfusion Matrix: \u001b[0m\n",
            "[[497   0   7  12   8]\n",
            " [  4 497   5   3  32]\n",
            " [  0   0 387   5   3]\n",
            " [  0   0 116 480   5]\n",
            " [  0   0   4   1 483]]\n",
            "\n",
            "\u001b[1mTraining data size: 50.0 %\u001b[0m\n",
            "\u001b[1mFeature Selected: 60\u001b[0m\n",
            "\u001b[94m\u001b[1mAccuracy Achieved: 93.10 %\u001b[0m\n",
            "\u001b[94m\u001b[1mConfusion Matrix: \u001b[0m\n",
            "[[497   0   6  14   5]\n",
            " [  4 497   4   2  25]\n",
            " [  0   0 405   5   2]\n",
            " [  0   0  91 478   3]\n",
            " [  0   0  13   2 496]]\n",
            "\n",
            "\u001b[1mTraining data size: 50.0 %\u001b[0m\n",
            "\u001b[1mFeature Selected: 70\u001b[0m\n",
            "\u001b[94m\u001b[1mAccuracy Achieved: 93.53 %\u001b[0m\n",
            "\u001b[94m\u001b[1mConfusion Matrix: \u001b[0m\n",
            "[[498   0   8  16   4]\n",
            " [  3 497   5   1  22]\n",
            " [  0   0 412   5   2]\n",
            " [  0   0  81 476   2]\n",
            " [  0   0  13   3 501]]\n",
            "\n",
            "----------------------------------\n",
            "----------------------------------\n",
            "\n",
            "\u001b[1mCase 2\u001b[0m\n",
            "\u001b[1mCount in Classes: Counter({'talk.politics.misc': 706, 'sci.space': 702, 'sci.med': 693, 'rec.sport.hockey': 682, 'comp.graphics': 674})\u001b[0m\n",
            "\n",
            "\u001b[1mTraining data size: 70.0 %\u001b[0m\n",
            "\u001b[1mFeature Selected: 10\u001b[0m\n",
            "\u001b[94m\u001b[1mAccuracy Achieved: 97.86 %\u001b[0m\n",
            "\u001b[94m\u001b[1mConfusion Matrix: \u001b[0m\n",
            "[[308   0   2   3   0]\n",
            " [  0 318   0   0   0]\n",
            " [  3   0 305   1   0]\n",
            " [  3   0   0 285   0]\n",
            " [ 12   0   0   9 294]]\n",
            "\n",
            "\u001b[1mTraining data size: 70.0 %\u001b[0m\n",
            "\u001b[1mFeature Selected: 20\u001b[0m\n",
            "\u001b[94m\u001b[1mAccuracy Achieved: 96.63 %\u001b[0m\n",
            "\u001b[94m\u001b[1mConfusion Matrix: \u001b[0m\n",
            "[[313   0   5  13   0]\n",
            " [  1 318   0   0   0]\n",
            " [  3   0 297   6   2]\n",
            " [  3   0   0 271   0]\n",
            " [  6   0   5   8 292]]\n",
            "\n",
            "\u001b[1mTraining data size: 70.0 %\u001b[0m\n",
            "\u001b[1mFeature Selected: 40\u001b[0m\n",
            "\u001b[94m\u001b[1mAccuracy Achieved: 97.41 %\u001b[0m\n",
            "\u001b[94m\u001b[1mConfusion Matrix: \u001b[0m\n",
            "[[316   0   2   4   0]\n",
            " [  2 318   0   0   0]\n",
            " [  3   0 295   4   4]\n",
            " [  5   0   6 284   0]\n",
            " [  0   0   4   6 290]]\n",
            "\n",
            "\u001b[1mTraining data size: 70.0 %\u001b[0m\n",
            "\u001b[1mFeature Selected: 50\u001b[0m\n",
            "\u001b[94m\u001b[1mAccuracy Achieved: 96.95 %\u001b[0m\n",
            "\u001b[94m\u001b[1mConfusion Matrix: \u001b[0m\n",
            "[[317   0   3   5   0]\n",
            " [  2 318   0   0   2]\n",
            " [  3   0 291   6   2]\n",
            " [  3   0   8 280   0]\n",
            " [  1   0   5   7 290]]\n",
            "\n",
            "\u001b[1mTraining data size: 70.0 %\u001b[0m\n",
            "\u001b[1mFeature Selected: 60\u001b[0m\n",
            "\u001b[94m\u001b[1mAccuracy Achieved: 97.15 %\u001b[0m\n",
            "\u001b[94m\u001b[1mConfusion Matrix: \u001b[0m\n",
            "[[317   0   3   3   0]\n",
            " [  2 318   0   0   2]\n",
            " [  2   0 290   5   2]\n",
            " [  5   0   9 284   0]\n",
            " [  0   0   5   6 290]]\n",
            "\n",
            "\u001b[1mTraining data size: 70.0 %\u001b[0m\n",
            "\u001b[1mFeature Selected: 70\u001b[0m\n",
            "\u001b[94m\u001b[1mAccuracy Achieved: 97.60 %\u001b[0m\n",
            "\u001b[94m\u001b[1mConfusion Matrix: \u001b[0m\n",
            "[[318   0   3   3   0]\n",
            " [  2 318   0   0   2]\n",
            " [  2   0 296   5   2]\n",
            " [  4   0   3 284   0]\n",
            " [  0   0   5   6 290]]\n",
            "\n",
            "----------------------------------\n",
            "----------------------------------\n",
            "\n",
            "\u001b[1mCase 3\u001b[0m\n",
            "\u001b[1mCount in Classes: Counter({'talk.politics.misc': 809, 'comp.graphics': 804, 'sci.med': 792, 'sci.space': 789, 'rec.sport.hockey': 783})\u001b[0m\n",
            "\n",
            "\u001b[1mTraining data size: 80.0 %\u001b[0m\n",
            "\u001b[1mFeature Selected: 10\u001b[0m\n",
            "\u001b[94m\u001b[1mAccuracy Achieved: 87.98 %\u001b[0m\n",
            "\u001b[94m\u001b[1mConfusion Matrix: \u001b[0m\n",
            "[[195   0   4  13   5]\n",
            " [  0 217   0   0   0]\n",
            " [  1   0 204  87  13]\n",
            " [  0   0   0 111   0]\n",
            " [  0   0   0   0 173]]\n",
            "\n",
            "\u001b[1mTraining data size: 80.0 %\u001b[0m\n",
            "\u001b[1mFeature Selected: 20\u001b[0m\n",
            "\u001b[94m\u001b[1mAccuracy Achieved: 94.43 %\u001b[0m\n",
            "\u001b[94m\u001b[1mConfusion Matrix: \u001b[0m\n",
            "[[194   0   2  11  27]\n",
            " [  0 217   0   0   0]\n",
            " [  0   0 206   3   2]\n",
            " [  0   0   0 196   9]\n",
            " [  2   0   0   1 153]]\n",
            "\n",
            "\u001b[1mTraining data size: 80.0 %\u001b[0m\n",
            "\u001b[1mFeature Selected: 40\u001b[0m\n",
            "\u001b[94m\u001b[1mAccuracy Achieved: 93.26 %\u001b[0m\n",
            "\u001b[94m\u001b[1mConfusion Matrix: \u001b[0m\n",
            "[[195   0   2   7  12]\n",
            " [  0 216   0   0   0]\n",
            " [  0   0 196  30   3]\n",
            " [  0   0   0 172   1]\n",
            " [  1   1  10   2 175]]\n",
            "\n",
            "\u001b[1mTraining data size: 80.0 %\u001b[0m\n",
            "\u001b[1mFeature Selected: 50\u001b[0m\n",
            "\u001b[94m\u001b[1mAccuracy Achieved: 93.45 %\u001b[0m\n",
            "\u001b[94m\u001b[1mConfusion Matrix: \u001b[0m\n",
            "[[195   0   3   9  12]\n",
            " [  0 217   0   0   1]\n",
            " [  0   0 198  26   2]\n",
            " [  1   0   0 172   2]\n",
            " [  0   0   7   4 174]]\n",
            "\n",
            "\u001b[1mTraining data size: 80.0 %\u001b[0m\n",
            "\u001b[1mFeature Selected: 60\u001b[0m\n",
            "\u001b[94m\u001b[1mAccuracy Achieved: 94.82 %\u001b[0m\n",
            "\u001b[94m\u001b[1mConfusion Matrix: \u001b[0m\n",
            "[[195   0   2   9   7]\n",
            " [  0 217   0   1   1]\n",
            " [  0   0 198  20   1]\n",
            " [  1   0   0 179   1]\n",
            " [  0   0   8   2 181]]\n",
            "\n",
            "\u001b[1mTraining data size: 80.0 %\u001b[0m\n",
            "\u001b[1mFeature Selected: 70\u001b[0m\n",
            "\u001b[94m\u001b[1mAccuracy Achieved: 95.60 %\u001b[0m\n",
            "\u001b[94m\u001b[1mConfusion Matrix: \u001b[0m\n",
            "[[195   0   2   8   7]\n",
            " [  0 217   0   1   0]\n",
            " [  0   0 200  18   1]\n",
            " [  1   0   0 183   0]\n",
            " [  0   0   6   1 183]]\n",
            "\n",
            "----------------------------------\n",
            "----------------------------------\n",
            "\n"
          ]
        }
      ]
    },
    {
      "cell_type": "code",
      "source": [
        "#Displaying accuracies of model on different proportion/ratio of total data considered as training data\n",
        "myTable = PrettyTable()\n",
        "myTable.field_names = [color.BOLD+\"Training Data Proportion\"+color.END,color.BOLD+ \"Features Selected/Class (On basis of TF-ICF) \"+color.END,color.BOLD+\"Accuracy Achieved\"+color.END]\n",
        "for i in range(len(listTrainSize)):\n",
        "    myTable.add_row([color.BOLD+str(round(listTrainSize[i]*100))+\" %\"+color.END,color.BLUE+color.BOLD+str(round(featureList[i]))+color.END,color.DARKCYAN+color.BLUE+str(\"{:.2f}\".format(listPref[i]*100))+\" %\"+color.END])\n",
        "print(myTable)"
      ],
      "metadata": {
        "colab": {
          "base_uri": "https://localhost:8080/"
        },
        "id": "LZh28GM27UG5",
        "outputId": "2146beb2-a558-46d9-f015-b1e42dff3683"
      },
      "execution_count": 266,
      "outputs": [
        {
          "output_type": "stream",
          "name": "stdout",
          "text": [
            "+--------------------------+-----------------------------------------------+-------------------+\n",
            "| \u001b[1mTraining Data Proportion\u001b[0m | \u001b[1mFeatures Selected/Class (On basis of TF-ICF) \u001b[0m | \u001b[1mAccuracy Achieved\u001b[0m |\n",
            "+--------------------------+-----------------------------------------------+-------------------+\n",
            "|           \u001b[1m50 %\u001b[0m           |                       \u001b[94m\u001b[1m10\u001b[0m                      |      \u001b[36m\u001b[94m80.74 %\u001b[0m      |\n",
            "|           \u001b[1m50 %\u001b[0m           |                       \u001b[94m\u001b[1m20\u001b[0m                      |      \u001b[36m\u001b[94m87.17 %\u001b[0m      |\n",
            "|           \u001b[1m50 %\u001b[0m           |                       \u001b[94m\u001b[1m40\u001b[0m                      |      \u001b[36m\u001b[94m90.23 %\u001b[0m      |\n",
            "|           \u001b[1m50 %\u001b[0m           |                       \u001b[94m\u001b[1m50\u001b[0m                      |      \u001b[36m\u001b[94m91.96 %\u001b[0m      |\n",
            "|           \u001b[1m50 %\u001b[0m           |                       \u001b[94m\u001b[1m60\u001b[0m                      |      \u001b[36m\u001b[94m93.10 %\u001b[0m      |\n",
            "|           \u001b[1m50 %\u001b[0m           |                       \u001b[94m\u001b[1m70\u001b[0m                      |      \u001b[36m\u001b[94m93.53 %\u001b[0m      |\n",
            "|           \u001b[1m70 %\u001b[0m           |                       \u001b[94m\u001b[1m10\u001b[0m                      |      \u001b[36m\u001b[94m97.86 %\u001b[0m      |\n",
            "|           \u001b[1m70 %\u001b[0m           |                       \u001b[94m\u001b[1m20\u001b[0m                      |      \u001b[36m\u001b[94m96.63 %\u001b[0m      |\n",
            "|           \u001b[1m70 %\u001b[0m           |                       \u001b[94m\u001b[1m40\u001b[0m                      |      \u001b[36m\u001b[94m97.41 %\u001b[0m      |\n",
            "|           \u001b[1m70 %\u001b[0m           |                       \u001b[94m\u001b[1m50\u001b[0m                      |      \u001b[36m\u001b[94m96.95 %\u001b[0m      |\n",
            "|           \u001b[1m70 %\u001b[0m           |                       \u001b[94m\u001b[1m60\u001b[0m                      |      \u001b[36m\u001b[94m97.15 %\u001b[0m      |\n",
            "|           \u001b[1m70 %\u001b[0m           |                       \u001b[94m\u001b[1m70\u001b[0m                      |      \u001b[36m\u001b[94m97.60 %\u001b[0m      |\n",
            "|           \u001b[1m80 %\u001b[0m           |                       \u001b[94m\u001b[1m10\u001b[0m                      |      \u001b[36m\u001b[94m87.98 %\u001b[0m      |\n",
            "|           \u001b[1m80 %\u001b[0m           |                       \u001b[94m\u001b[1m20\u001b[0m                      |      \u001b[36m\u001b[94m94.43 %\u001b[0m      |\n",
            "|           \u001b[1m80 %\u001b[0m           |                       \u001b[94m\u001b[1m40\u001b[0m                      |      \u001b[36m\u001b[94m93.26 %\u001b[0m      |\n",
            "|           \u001b[1m80 %\u001b[0m           |                       \u001b[94m\u001b[1m50\u001b[0m                      |      \u001b[36m\u001b[94m93.45 %\u001b[0m      |\n",
            "|           \u001b[1m80 %\u001b[0m           |                       \u001b[94m\u001b[1m60\u001b[0m                      |      \u001b[36m\u001b[94m94.82 %\u001b[0m      |\n",
            "|           \u001b[1m80 %\u001b[0m           |                       \u001b[94m\u001b[1m70\u001b[0m                      |      \u001b[36m\u001b[94m95.60 %\u001b[0m      |\n",
            "+--------------------------+-----------------------------------------------+-------------------+\n"
          ]
        }
      ]
    },
    {
      "cell_type": "markdown",
      "source": [
        "**Plotting graph between Accuracy and Number of features selected from Every class**"
      ],
      "metadata": {
        "id": "LJe-SZj6xdlg"
      }
    },
    {
      "cell_type": "code",
      "source": [
        "#On train:test ratio of 50:50\n",
        "plt.plot(featureList[0:4],listPref[0:4],color='cyan',linewidth=4,\n",
        "         marker=(5,1),markerfacecolor='black',markersize=12)\n",
        "plt.xlabel(\"FEATURE COUNT\")\n",
        "plt.ylabel(\"ACCURACY\")\n",
        "plt.title(\"NUMBER OF FEATURES SELECTED V/S ACCURACY WITH SPLIT RATIO OF 50:50\")\n",
        "plt.show()"
      ],
      "metadata": {
        "colab": {
          "base_uri": "https://localhost:8080/",
          "height": 295
        },
        "id": "i9pjyZRI7mSC",
        "outputId": "2a65ce5a-c5d5-4cd4-e9d0-3b50eaebc32d"
      },
      "execution_count": 267,
      "outputs": [
        {
          "output_type": "display_data",
          "data": {
            "text/plain": [
              "<Figure size 432x288 with 1 Axes>"
            ],
            "image/png": "[encoded data removed]"
          },
          "metadata": {
            "needs_background": "light"
          }
        }
      ]
    },
    {
      "cell_type": "code",
      "source": [
        "#On train:test ratio of 70:30\n",
        "plt.plot(featureList[4:8],listPref[4:8],color='green',linewidth=4,\n",
        "         marker=(5,1),markerfacecolor='yellow',markersize=12)\n",
        "plt.xlabel(\"FEATURES SELECTED\")\n",
        "plt.ylabel(\"ACCURACY\")\n",
        "plt.title(\"NUMBER OF FEATURES SELECTED V/S ACCURACY WITH SPLIT RATIO OF 70:30\")\n",
        "plt.show()"
      ],
      "metadata": {
        "colab": {
          "base_uri": "https://localhost:8080/",
          "height": 295
        },
        "id": "aF8KNwrk7rS3",
        "outputId": "69684601-5e28-44fa-b54e-3c8ef43c48a3"
      },
      "execution_count": 268,
      "outputs": [
        {
          "output_type": "display_data",
          "data": {
            "text/plain": [
              "<Figure size 432x288 with 1 Axes>"
            ],
            "image/png": "[encoded data removed]"
          },
          "metadata": {
            "needs_background": "light"
          }
        }
      ]
    },
    {
      "cell_type": "code",
      "source": [
        "#On train:test ratio of 80:20\n",
        "plt.plot(featureList[8:12],listPref[8:12],color='blue',linewidth=4,\n",
        "         marker=(5,1),markerfacecolor='cyan',markersize=12)\n",
        "plt.xlabel(\"FEATURES SELECTED\")\n",
        "plt.ylabel(\"ACCURACY\")\n",
        "plt.title(\"NUMBER OF FEATURES SELECTED V/S ACCURACY WITH SPLIT RATIO OF 80:20\")\n",
        "plt.show()"
      ],
      "metadata": {
        "colab": {
          "base_uri": "https://localhost:8080/",
          "height": 295
        },
        "id": "JKQYckgO7vOk",
        "outputId": "a1060c35-2d04-4ec3-ad27-dd43930def8b"
      },
      "execution_count": 269,
      "outputs": [
        {
          "output_type": "display_data",
          "data": {
            "text/plain": [
              "<Figure size 432x288 with 1 Axes>"
            ],
            "image/png": "[encoded data removed]"
          },
          "metadata": {
            "needs_background": "light"
          }
        }
      ]
    },
    {
      "cell_type": "markdown",
      "source": [
        "**Plotting graph to display the variation of Accuracy on different Training Data size used**"
      ],
      "metadata": {
        "id": "jV7k_8Kayp_g"
      }
    },
    {
      "cell_type": "code",
      "source": [
        "plt.plot([listTrainSize[3],listTrainSize[7],listTrainSize[11]],[listPref[3]*100,listPref[7]*100,listPref[11]*100],\n",
        "         color='red',linewidth=4,\n",
        "         marker=(5,1),markerfacecolor='white',markersize=12)\n",
        "plt.xlabel(\"PROPORTION OF TRAINING DATA\")\n",
        "plt.ylabel(\"ACCURACY\")\n",
        "plt.title(\"ACCURACY VS TRAINING DATA SIZE GRAPH\")\n",
        "plt.show()"
      ],
      "metadata": {
        "colab": {
          "base_uri": "https://localhost:8080/",
          "height": 295
        },
        "id": "GvD-kecf7wNV",
        "outputId": "22aef291-2359-4767-ea25-fe59e7dfe19a"
      },
      "execution_count": 270,
      "outputs": [
        {
          "output_type": "display_data",
          "data": {
            "text/plain": [
              "<Figure size 432x288 with 1 Axes>"
            ],
            "image/png": "[encoded data removed]"
          },
          "metadata": {
            "needs_background": "light"
          }
        }
      ]
    }
  ]
}